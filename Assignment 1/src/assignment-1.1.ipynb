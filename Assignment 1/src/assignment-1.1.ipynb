{
 "cells": [
  {
   "cell_type": "code",
   "execution_count": null,
   "metadata": {},
   "outputs": [],
   "source": [
    "import pandas as pd\n",
    "\n",
    "data = (pd.read_csv('/workspaces/codespaces-jupyter/data/titanic.csv'))\n",
    "data"
   ]
  },
  {
   "cell_type": "code",
   "execution_count": null,
   "metadata": {},
   "outputs": [],
   "source": [
    "trimmed_data = data.dropna()\n",
    "len(data) - len(trimmed_data)"
   ]
  },
  {
   "cell_type": "code",
   "execution_count": null,
   "metadata": {},
   "outputs": [],
   "source": [
    "data = data.drop(columns=['deck'])\n",
    "trimmed_data = data.dropna()\n",
    "len(data) - len(trimmed_data)"
   ]
  },
  {
   "cell_type": "code",
   "execution_count": null,
   "metadata": {},
   "outputs": [],
   "source": [
    "from sklearn import preprocessing as pre\n",
    "\n",
    "label = pre.LabelEncoder()\n",
    "label.fit(trimmed_data.sex.drop_duplicates())\n",
    "trimmed_data.sex = label.transform(trimmed_data.sex)\n",
    "\n",
    "#label.fit(trimmed_data.embarked.drop_duplicates())\n",
    "#trimmed_data.embarked = label.transform(trimmed_data.embarked)\n",
    "\n",
    "#label.fit(trimmed_data.who.drop_duplicates())\n",
    "#trimmed_data.who = label.transform(trimmed_data.who)\n",
    "\n",
    "label.fit(trimmed_data.adult_male.drop_duplicates())\n",
    "trimmed_data.adult_male = label.transform(trimmed_data.adult_male)\n",
    "\n",
    "#label.fit(trimmed_data.embark_town.drop_duplicates())\n",
    "#trimmed_data.embark_town = label.transform(trimmed_data.embark_town)\n",
    "\n",
    "label.fit(trimmed_data.alone.drop_duplicates())\n",
    "trimmed_data.alone = label.transform(trimmed_data.alone)\n",
    "\n",
    "label.fit(trimmed_data.alive.drop_duplicates())\n",
    "trimmed_data.alive = label.transform(trimmed_data.alive)\n",
    "\n",
    "#label.fit(trimmed_data['class'].drop_duplicates())\n",
    "#trimmed_data['class'] = label.transform(trimmed_data['class'])\n",
    "\n",
    "trimmed_data\n"
   ]
  },
  {
   "cell_type": "code",
   "execution_count": null,
   "metadata": {},
   "outputs": [],
   "source": [
    "trimmed_data = pd.get_dummies(trimmed_data, columns=['class', 'embark_town', 'embarked', 'who'])\n",
    "trimmed_data\n"
   ]
  },
  {
   "cell_type": "code",
   "execution_count": null,
   "metadata": {},
   "outputs": [],
   "source": [
    "col_list = list(trimmed_data.columns)\n",
    "col_list[8], col_list[-1] = col_list[-1], col_list[8]\n",
    "trimmed_data = trimmed_data.reindex(columns=col_list)\n",
    "\n",
    "trimmed_data"
   ]
  },
  {
   "cell_type": "code",
   "execution_count": null,
   "metadata": {},
   "outputs": [],
   "source": [
    "features = trimmed_data.iloc[ : , :-1].values\n",
    "label = trimmed_data.iloc[ : , -1].values\n",
    "\n",
    "features, label"
   ]
  },
  {
   "cell_type": "code",
   "execution_count": null,
   "metadata": {},
   "outputs": [],
   "source": [
    "from sklearn import model_selection as ms\n",
    "\n",
    "features_train, features_test, label_train, label_test = ms.train_test_split(features, label, test_size=0.2, random_state=0)"
   ]
  },
  {
   "cell_type": "code",
   "execution_count": null,
   "metadata": {},
   "outputs": [],
   "source": [
    "from sklearn import linear_model as lm\n",
    "\n",
    "model = lm.LogisticRegression(max_iter=1000)\n",
    "model.fit(features_train, label_train)\n",
    "\n",
    "label_pred = model.predict(features_test)\n",
    "label_pred"
   ]
  },
  {
   "cell_type": "code",
   "execution_count": null,
   "metadata": {},
   "outputs": [],
   "source": [
    "import sklearn.metrics as metrics\n",
    "\n",
    "f1 = metrics.f1_score(label_test, label_pred)\n",
    "acc = metrics.accuracy_score(label_test, label_pred)\n",
    "pre = metrics.precision_score(label_test, label_pred)\n",
    "recall = metrics.recall_score(label_test, label_pred)\n",
    "confusion = metrics.confusion_matrix(label_test, label_pred)\n",
    "\n",
    "f1, acc, pre, recall, confusion"
   ]
  },
  {
   "cell_type": "code",
   "execution_count": null,
   "metadata": {},
   "outputs": [],
   "source": [
    "for i in range(len(label_pred)):\n",
    "    if label_pred[i] == 1 and label_test[i] == 0:\n",
    "        print(\"False Postive - Index:\", i)\n",
    "        print(features_test[i])\n",
    "        break\n",
    "\n",
    "for i in range(len(label_pred)):\n",
    "    if label_pred[i] == 0 and label_test[i] == 1:\n",
    "        print(\"False Negative - Index:\", i)\n",
    "        print(features_test[i])\n",
    "        break\n",
    "\n",
    "for i in range(len(label_pred)):\n",
    "    if label_pred[i] == 1 and label_test[i] == 1:\n",
    "        print(\"True Positive - Index:\", i)\n",
    "        print(features_test[i])\n",
    "        break\n",
    "\n",
    "for i in range(len(label_pred)):\n",
    "    if label_pred[i] == 0 and label_test[i] == 0:\n",
    "        print(\"True Negative - Index:\", i)\n",
    "        print(features_test[i])\n",
    "        break"
   ]
  }
 ],
 "metadata": {
  "kernelspec": {
   "display_name": "Python 3",
   "language": "python",
   "name": "python3"
  },
  "language_info": {
   "codemirror_mode": {
    "name": "ipython",
    "version": 3
   },
   "file_extension": ".py",
   "mimetype": "text/x-python",
   "name": "python",
   "nbconvert_exporter": "python",
   "pygments_lexer": "ipython3",
   "version": "3.10.13"
  }
 },
 "nbformat": 4,
 "nbformat_minor": 2
}
