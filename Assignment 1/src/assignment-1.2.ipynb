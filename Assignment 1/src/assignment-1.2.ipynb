{
 "cells": [
  {
   "cell_type": "code",
   "execution_count": null,
   "metadata": {},
   "outputs": [],
   "source": [
    "import pandas as pd\n",
    "\n",
    "data = (pd.read_csv('/workspaces/codespaces-jupyter/data/housing.csv'))\n",
    "data"
   ]
  },
  {
   "cell_type": "code",
   "execution_count": null,
   "metadata": {},
   "outputs": [],
   "source": [
    "trimmed_data = data.dropna()\n",
    "len(data) - len(trimmed_data)"
   ]
  },
  {
   "cell_type": "code",
   "execution_count": null,
   "metadata": {},
   "outputs": [],
   "source": [
    "trimmed_data = pd.get_dummies(trimmed_data)\n",
    "trimmed_data"
   ]
  },
  {
   "cell_type": "code",
   "execution_count": null,
   "metadata": {},
   "outputs": [],
   "source": [
    "col_list = list(trimmed_data.columns)\n",
    "col_list[8], col_list[-1] = col_list[-1], col_list[8]\n",
    "trimmed_data = trimmed_data.reindex(columns=col_list)\n",
    "\n",
    "trimmed_data"
   ]
  },
  {
   "cell_type": "code",
   "execution_count": null,
   "metadata": {},
   "outputs": [],
   "source": [
    "features = trimmed_data.iloc[ : , :-1].values\n",
    "label = trimmed_data.iloc[ : , -1].values\n",
    "\n",
    "features, label"
   ]
  },
  {
   "cell_type": "code",
   "execution_count": null,
   "metadata": {},
   "outputs": [],
   "source": [
    "from sklearn import model_selection as ms\n",
    "\n",
    "features_train, features_test, label_train, label_test = ms.train_test_split(features, label, test_size=0.2, random_state=0)"
   ]
  },
  {
   "cell_type": "code",
   "execution_count": null,
   "metadata": {},
   "outputs": [],
   "source": [
    "from sklearn import linear_model as lm\n",
    "\n",
    "model = lm.LinearRegression()\n",
    "model.fit(features_train, label_train)\n",
    "\n",
    "label_pred = model.predict(features_test)\n",
    "label_pred"
   ]
  },
  {
   "cell_type": "code",
   "execution_count": null,
   "metadata": {},
   "outputs": [],
   "source": [
    "import sklearn.metrics as metrics\n",
    "\n",
    "r2 = metrics.r2_score(label_test, label_pred)\n",
    "coef = model.coef_\n",
    "intercept = model.intercept_\n",
    "\n",
    "r2, coef, intercept"
   ]
  },
  {
   "cell_type": "code",
   "execution_count": null,
   "metadata": {},
   "outputs": [],
   "source": [
    "import numpy as np\n",
    "\n",
    "#find a predicted value close to a real value\n",
    "for i in range(0, len(label_pred)):\n",
    "    if abs(label_pred[i] - label_test[i]) < 50:\n",
    "        print(\"Close value\", label_pred[i], label_test[i])\n",
    "        print(features_test[i])\n",
    "        break\n",
    "\n",
    "for i in range(0, len(label_pred)):\n",
    "    if abs(label_pred[i] - label_test[i]) > 500_000:\n",
    "        print(\"Off value:\", label_pred[i], label_test[i])\n",
    "        print(features_test[i])\n",
    "        break\n",
    "\n"
   ]
  }
 ],
 "metadata": {
  "kernelspec": {
   "display_name": "Python 3",
   "language": "python",
   "name": "python3"
  },
  "language_info": {
   "codemirror_mode": {
    "name": "ipython",
    "version": 3
   },
   "file_extension": ".py",
   "mimetype": "text/x-python",
   "name": "python",
   "nbconvert_exporter": "python",
   "pygments_lexer": "ipython3",
   "version": "3.10.13"
  }
 },
 "nbformat": 4,
 "nbformat_minor": 2
}
